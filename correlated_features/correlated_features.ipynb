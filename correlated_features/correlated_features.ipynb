{
 "cells": [
  {
   "cell_type": "markdown",
   "id": "1aaf798c-1355-4749-9ce6-78a8d1e2ef06",
   "metadata": {},
   "source": [
    "# Checking correlated features in LinearRegression"
   ]
  },
  {
   "cell_type": "code",
   "execution_count": 89,
   "id": "8a128759-0d33-4e96-9733-ebeaba57b2d7",
   "metadata": {},
   "outputs": [],
   "source": [
    "import matplotlib.pyplot as plt\n",
    "import numpy as np\n",
    "from sklearn import datasets, linear_model\n",
    "from sklearn.metrics import mean_squared_error, r2_score\n",
    "from sklearn.model_selection import cross_val_score, train_test_split\n",
    "from sklearn.linear_model import LinearRegression"
   ]
  },
  {
   "cell_type": "markdown",
   "id": "4575a8ec-f651-49fb-aebc-7316854af291",
   "metadata": {},
   "source": [
    "# Linear regression model"
   ]
  },
  {
   "cell_type": "code",
   "execution_count": 161,
   "id": "113d3249-a1d6-49e7-8498-4c19ad88cda5",
   "metadata": {},
   "outputs": [],
   "source": [
    "X, y = datasets.make_regression(n_samples=50000, n_features=2, random_state=42, noise=30)"
   ]
  },
  {
   "cell_type": "code",
   "execution_count": 162,
   "id": "63124ec3-e69e-4656-be46-fa439eeb9184",
   "metadata": {},
   "outputs": [],
   "source": [
    "X_train, X_test, y_train, y_test = train_test_split(X, y, test_size=0.2)"
   ]
  },
  {
   "cell_type": "code",
   "execution_count": 163,
   "id": "c8be4fda-e05d-4181-93c2-503c263590a9",
   "metadata": {},
   "outputs": [
    {
     "name": "stdout",
     "output_type": "stream",
     "text": [
      "Coefficients: \n",
      " [68.08657704 29.56215236]\n",
      "Mean squared error: 914.22\n",
      "Coefficient of determination: 0.85\n"
     ]
    }
   ],
   "source": [
    "# Create linear regression object\n",
    "regr = LinearRegression()\n",
    "\n",
    "# Train the model using the training sets\n",
    "regr.fit(X_train, y_train)\n",
    "\n",
    "# Make predictions using the testing set\n",
    "y_pred = regr.predict(X_test)\n",
    "# The coefficients\n",
    "print(\"Coefficients: \\n\", regr.coef_)\n",
    "# The mean squared error\n",
    "print(\"Mean squared error: %.2f\" % mean_squared_error(y_test, y_pred))\n",
    "# The coefficient of determination: 1 is perfect prediction\n",
    "print(\"Coefficient of determination: %.2f\" % r2_score(y_test, y_pred))"
   ]
  },
  {
   "cell_type": "markdown",
   "id": "782b561b-3899-4e42-beac-bc9ea4a309c3",
   "metadata": {},
   "source": [
    "# Creating correlated features"
   ]
  },
  {
   "cell_type": "code",
   "execution_count": 164,
   "id": "ace3e3af-902c-4362-9284-e7e54b6c66c9",
   "metadata": {},
   "outputs": [],
   "source": [
    "# creating correlated features\n",
    "X = np.append(X, X+0.01, axis=1)"
   ]
  },
  {
   "cell_type": "code",
   "execution_count": 165,
   "id": "d4da3b45-107b-46f3-9b3b-e0dd2498f973",
   "metadata": {},
   "outputs": [],
   "source": [
    "X_train, X_test, y_train, y_test = train_test_split(X, y, test_size=0.2)"
   ]
  },
  {
   "cell_type": "code",
   "execution_count": 166,
   "id": "5e6f9c61-f4b5-408f-9445-ce29c48ebe7d",
   "metadata": {},
   "outputs": [
    {
     "name": "stdout",
     "output_type": "stream",
     "text": [
      "Coefficients: \n",
      " [-2.73423252e+13  3.88918934e+13  2.73423252e+13 -3.88918934e+13]\n",
      "Mean squared error: 892.86\n",
      "Coefficient of determination: 0.86\n"
     ]
    }
   ],
   "source": [
    "# Create linear regression object\n",
    "regr = LinearRegression()\n",
    "\n",
    "# Train the model using the training sets\n",
    "regr.fit(X_train, y_train)\n",
    "\n",
    "# Make predictions using the testing set\n",
    "y_pred = regr.predict(X_test)\n",
    "# The coefficients\n",
    "print(\"Coefficients: \\n\", regr.coef_)\n",
    "# The mean squared error\n",
    "print(\"Mean squared error: %.2f\" % mean_squared_error(y_test, y_pred))\n",
    "# The coefficient of determination: 1 is perfect prediction\n",
    "print(\"Coefficient of determination: %.2f\" % r2_score(y_test, y_pred))"
   ]
  }
 ],
 "metadata": {
  "kernelspec": {
   "display_name": "Python 3 (ipykernel)",
   "language": "python",
   "name": "python3"
  },
  "language_info": {
   "codemirror_mode": {
    "name": "ipython",
    "version": 3
   },
   "file_extension": ".py",
   "mimetype": "text/x-python",
   "name": "python",
   "nbconvert_exporter": "python",
   "pygments_lexer": "ipython3",
   "version": "3.9.6"
  }
 },
 "nbformat": 4,
 "nbformat_minor": 5
}
